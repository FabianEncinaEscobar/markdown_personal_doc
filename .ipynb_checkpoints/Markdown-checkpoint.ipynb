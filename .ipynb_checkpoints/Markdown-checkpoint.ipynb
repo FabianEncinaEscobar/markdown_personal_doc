{
 "cells": [
  {
   "cell_type": "markdown",
   "metadata": {},
   "source": [
    "# Markdown"
   ]
  },
  {
   "cell_type": "markdown",
   "metadata": {},
   "source": [
    "## Índice\n",
    "\n",
    "**Índice**\n",
    "1. [Primer apartado](#id1)\n",
    "2. [Segundo apartado](#id2)\n",
    "## Primer apartado<a name=\"id1\"></a>\n",
    "Texto del primer apartado\n",
    "## Segundo apartado<a name=\"id2\"></a>\n",
    "Texto del segundo apartado\n"
   ]
  },
  {
   "cell_type": "markdown",
   "metadata": {},
   "source": [
    "## Elementos de bloque\n",
    "\n",
    "### Títulos\n",
    "#### Títulos\n",
    "##### Títulos"
   ]
  },
  {
   "cell_type": "markdown",
   "metadata": {},
   "source": [
    "### Listas ordenadas\n",
    "1. fila 1\n",
    "    1. n1\n",
    "    2. n2\n",
    "2. fila 2\n",
    "    1. t1\n",
    "3. fila 3\n",
    "4. fila 4\n",
    "\n",
    "### Listas desordenadas\n",
    "- fila 1\n",
    "    - n1\n",
    "    - n2\n",
    "- fila 2\n",
    "    - t1\n",
    "- fila 3\n",
    "- fila 4\n",
    "\n",
    "### Listas checklist\n",
    "**Listado de tareas 14-12-2019**\n",
    "\n",
    "- [X] llevar los niños a natación\n",
    "- [X] aprender markdown\n",
    "- [ ] renovar mi suscripción del gimnasio"
   ]
  },
  {
   "cell_type": "markdown",
   "metadata": {},
   "source": [
    "### Citas\n",
    "> Esto sería una cita como la que acabas de ver.\n",
    "> \n",
    "> > Dentro de ella puedes anidar otra cita.\n",
    "> \n",
    "> La cita principal llegaría hasta aquí. \n",
    "\n"
   ]
  },
  {
   "cell_type": "markdown",
   "metadata": {},
   "source": [
    "### Códigos de bloque\n",
    "~~~\n",
    "Creando códigos de bloque.\n",
    "Puedes añadir tantas líneas y párrafos como quieras.  \n",
    "~~~"
   ]
  },
  {
   "cell_type": "markdown",
   "metadata": {},
   "source": [
    "### Reglas horizontales\n",
    "***\n",
    "---\n",
    "___"
   ]
  },
  {
   "cell_type": "markdown",
   "metadata": {},
   "source": [
    "## Elementos de línea"
   ]
  },
  {
   "cell_type": "markdown",
   "metadata": {},
   "source": [
    "### Énfasis (Negritas y cursivas)\n",
    "- *cursiva*\n",
    "- _cursiva_\n",
    "- **negrita**\n",
    "- __negrita__\n",
    "- ***negrita y cursiva***\n",
    "- ___negrita y cursiva___\n",
    "- ~~palabra tachada~~\n",
    "- ~~**palabra tachada**~~"
   ]
  },
  {
   "cell_type": "markdown",
   "metadata": {},
   "source": [
    "### Links o enlaces\n",
    "#### Enlace en linea:\n",
    "\n",
    "[enlace en línea](http://www.limni.net)\n",
    "\n",
    "#### Enlace como referencia:\n",
    "\n",
    "Me llamo Javier Cristóbal y tengo un blog sobre [productividad mac][blog].\n",
    "\n",
    "En dicha [web][blog] recopilo artículos sobre todo lo relacionado con automatización, gestión y eficiencia.\n",
    "\n",
    "[blog]: http://limni.net/blog/\n",
    "\n",
    "#### Links automáticos\n",
    "<http://www.limni.net>"
   ]
  },
  {
   "cell_type": "markdown",
   "metadata": {},
   "source": [
    "### Código\n",
    "`Esto es una línea de código`\n",
    "\n",
    "#### Esto es un conjunto de código\n",
    "```html\n",
    "<!DOCTYPE HTML>\n",
    "<html>\n",
    "  <head>\n",
    "    <title>Ejemplo</title>\n",
    "  </head>\n",
    "  <body>\n",
    "\n",
    "    <?php\n",
    "     echo \"¡Hola, mundo PHP!\";\n",
    "    ?>\n",
    "\n",
    "  </body>\n",
    "</html>\n",
    "```\n",
    "\n",
    "```JSON  \n",
    "{\"asd\":\"Aquí van el codigo en json\"}\n",
    "```\n",
    "\n",
    "```Javascript\n",
    "var = Aquí van el codigo en javascript\n",
    "var = var + \"yeahhh\"\n",
    "```\n",
    "\n",
    "\n",
    "#### Resaltar código dentro de un texto\n",
    "El comando para instalar LibreOffice es `sudo apt install libreoffice`."
   ]
  },
  {
   "cell_type": "markdown",
   "metadata": {},
   "source": [
    "### Imágenes\n",
    "#### Desde una url de la web\n",
    "\n",
    "![Texto alternativo](https://www.purina-latam.com/sites/g/files/auxxlc391/files/styles/kraken_generic_max_width_360/public/Que_debes_saber_antes_de_adoptar_un_gatito.jpg?itok=5_yubDf3)\n",
    "\n",
    "#### Desde una imagen de tu pc\n",
    "<img src=\"gatito.jpg\"\n",
    "     alt=\"Markdown Monster icon\"\n",
    "     style=\"float: left; margin-right: 10px;\" />"
   ]
  },
  {
   "cell_type": "markdown",
   "metadata": {},
   "source": [
    "### Videos\n",
    "\n",
    "#### Poner una imagen de la web para redireccionar a la url del video a mostrar\n",
    "[![texto_alternativo_imagen](https://www.purina-latam.com/sites/g/files/auxxlc391/files/styles/kraken_generic_max_width_360/public/Que_debes_saber_antes_de_adoptar_un_gatito.jpg?itok=5_yubDf3)](https://www.youtube.com/watch?v=ITn5Q6W9RQY)"
   ]
  },
  {
   "cell_type": "markdown",
   "metadata": {},
   "source": [
    "### Tablas\n",
    "| Mes | Facturación | Comercial |\n",
    "| --- | ---: | :---: |\n",
    "| Enero | 100.000 | Feli |\n",
    "| Enero | 200.000 | Fran C. |\n",
    "| Febrero | 400.000 | Feli |\n",
    "| Febrero | 50.000 | Fran C. |"
   ]
  },
  {
   "cell_type": "markdown",
   "metadata": {},
   "source": [
    "### Omitir caracteres markdown\n",
    "Para omitir caracteres usados en markdown y mostrarlos por pantalla, se debe anteponer \\ en el caracter.\n",
    "Los caracteres son:\n",
    "- \\\\  barra invertida\n",
    "- \\`  acento invertido\n",
    "- \\*  asterisco\n",
    "- \\_  guión bajo\n",
    "- \\{\\} llaves\n",
    "- \\[\\] corchetes\n",
    "- \\(\\) paréntesis\n",
    "- \\#  almohadilla\n",
    "- \\+  símbolo de suma\n",
    "- \\-  guión\n",
    "- \\.  punto\n",
    "- \\!  exclamación"
   ]
  },
  {
   "cell_type": "markdown",
   "metadata": {},
   "source": [
    "## Ecuaciones\n",
    "En la misma linea: $A = \\pi*r^{2}$ \n",
    "\n",
    "La *función Gamma* satisface $\\Gamma(n) = (n-1)!\\quad\\forall n\\in\\mathbb N$ a través de la integral de Euler\n",
    "\n",
    "$$\n",
    "\\Gamma(z) = \\int_0^\\infty t^{z-1}e^{-t}dt\\,.\n",
    "$$\n",
    "\n",
    "\n",
    "$$X_i$$\n",
    "\n",
    "$$X_{i}$$\n",
    "\n",
    "$$X_{i,j}$$\n",
    "\n",
    "$$X_i,j$$\n",
    "\n",
    "$$X^2_{i,j}$$\n",
    "\n",
    "$$\\sqrt{b^2 - 4ac}$$\n",
    "\n",
    "$$\\frac{4z^3}{16}$$\n",
    "\n",
    "$$\\sum_{i=1}^{n} X^3_i$$\n",
    "\n",
    "$$\\sum_{i=1}^{n}\\left( \\frac{X_i}{Y_i} \\right)$$\n",
    "\n",
    "$$\\alpha, \\beta,  \\gamma, \\Gamma$$\n",
    "\n",
    "$$a \\pm b$$\n",
    "\n",
    "$$x \\ge 15$$\n",
    "\n",
    "$$a_i \\ge 0~~~\\forall i$$\n",
    "\n",
    "$$\\int_0^{2\\pi} \\sin x~dx$$\n",
    "\n",
    "$$\\begin{array}\n",
    "{rrr}\n",
    "1 & 2 & 3 \\\\\n",
    "4 & 5 & 6 \\\\\n",
    "7 & 8 & 9\n",
    "\\end{array}\n",
    "$$\n",
    "\n",
    "$$\\mathbf{X} = \\left[\\begin{array}\n",
    "{rrr}\n",
    "1 & 2 & 3 \\\\\n",
    "4 & 5 & 6 \\\\\n",
    "7 & 8 & 9\n",
    "\\end{array}\\right]\n",
    "$$\n",
    "\n"
   ]
  }
 ],
 "metadata": {
  "kernelspec": {
   "display_name": "Python 3",
   "language": "python",
   "name": "python3"
  },
  "language_info": {
   "codemirror_mode": {
    "name": "ipython",
    "version": 3
   },
   "file_extension": ".py",
   "mimetype": "text/x-python",
   "name": "python",
   "nbconvert_exporter": "python",
   "pygments_lexer": "ipython3",
   "version": "3.7.6"
  }
 },
 "nbformat": 4,
 "nbformat_minor": 4
}
